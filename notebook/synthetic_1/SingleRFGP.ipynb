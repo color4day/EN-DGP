{
 "cells": [
  {
   "cell_type": "code",
   "id": "c1c764c9-b1d3-4418-8b28-ceffbb97846d",
   "metadata": {
    "tags": [],
    "ExecuteTime": {
     "end_time": "2024-04-29T08:30:35.775742Z",
     "start_time": "2024-04-29T08:30:33.343372Z"
    }
   },
   "source": [
    "import os\n",
    "import pyro\n",
    "import torch\n",
    "import pickle\n",
    "\n",
    "import numpy as np\n",
    "import torch.nn as nn\n",
    "import matplotlib.pyplot as plt\n",
    "import pyro.distributions as dist\n",
    "\n",
    "from torch import Tensor\n",
    "from tqdm.auto import trange\n",
    "from pyro.nn import PyroModule, PyroSample, PyroParam\n",
    "from pyro.infer import MCMC, NUTS, SVI, Trace_ELBO, Predictive\n",
    "from pyro.distributions import constraints\n",
    "from pyro.infer.autoguide import AutoDiagonalNormal\n",
    "\n",
    "os.chdir(\"../../\")\n",
    "\n",
    "from src.dgp_rff.outer_layer import SingleGP, SingleCauchyGP"
   ],
   "outputs": [],
   "execution_count": 1
  },
  {
   "metadata": {
    "ExecuteTime": {
     "end_time": "2024-04-29T08:30:35.805767Z",
     "start_time": "2024-04-29T08:30:35.776747Z"
    }
   },
   "cell_type": "code",
   "source": [
    "import torch\n",
    "torch.cuda.is_available()\n",
    "# trouble shoot see this link:https://stackoverflow.com/questions/77068908/how-to-install-pytorch-with-cuda-support-on-windows-11-cuda-12-no-matching"
   ],
   "id": "f56a04aab430ee20",
   "outputs": [
    {
     "data": {
      "text/plain": [
       "True"
      ]
     },
     "execution_count": 2,
     "metadata": {},
     "output_type": "execute_result"
    }
   ],
   "execution_count": 2
  },
  {
   "metadata": {
    "ExecuteTime": {
     "end_time": "2024-04-29T08:30:35.812864Z",
     "start_time": "2024-04-29T08:30:35.806772Z"
    }
   },
   "cell_type": "code",
   "source": [
    "torch.cuda.current_device()\n",
    "device = torch.device(\"cuda\" if torch.cuda.is_available() else \"cpu\")\n",
    "torch.set_default_device(device)\n",
    "# cuda = torch.device('cuda') "
   ],
   "id": "e4ffde22a3c33392",
   "outputs": [],
   "execution_count": 3
  },
  {
   "metadata": {
    "ExecuteTime": {
     "end_time": "2024-04-29T08:30:35.965438Z",
     "start_time": "2024-04-29T08:30:35.813869Z"
    }
   },
   "cell_type": "code",
   "source": "var1= torch.FloatTensor([1.0,2.0,3.0]).cuda()",
   "id": "463b9382a4096407",
   "outputs": [],
   "execution_count": 4
  },
  {
   "metadata": {
    "ExecuteTime": {
     "end_time": "2024-04-29T08:30:35.971398Z",
     "start_time": "2024-04-29T08:30:35.967442Z"
    }
   },
   "cell_type": "code",
   "source": "var1.device",
   "id": "be0e909f3f4b15e7",
   "outputs": [
    {
     "data": {
      "text/plain": [
       "device(type='cuda', index=0)"
      ]
     },
     "execution_count": 5,
     "metadata": {},
     "output_type": "execute_result"
    }
   ],
   "execution_count": 5
  },
  {
   "metadata": {
    "ExecuteTime": {
     "end_time": "2024-04-29T08:30:35.978709Z",
     "start_time": "2024-04-29T08:30:35.972402Z"
    }
   },
   "cell_type": "code",
   "source": "torch.cuda.memory_allocated()",
   "id": "f0a13e24b00d76c6",
   "outputs": [
    {
     "data": {
      "text/plain": [
       "512"
      ]
     },
     "execution_count": 6,
     "metadata": {},
     "output_type": "execute_result"
    }
   ],
   "execution_count": 6
  },
  {
   "metadata": {},
   "cell_type": "markdown",
   "source": [
    "  # Next step\n",
    "\n",
    "0. Get familiar with the coding structure\n",
    "1. CPU -> GPU\n",
    "2. Last step without bias\n",
    "3. Figure out how they train\n",
    "4. How to access the posterior mean and std/scale from the model\n",
    "5. Learn pickle: numpy.ndarray, png\n",
    "6. ....\n",
    "7. construct a DeepGP class"
   ],
   "id": "858c7a1400939da9"
  },
  {
   "cell_type": "code",
   "id": "f88c1c9b-ced6-45cf-ae43-59c6cad2d4b1",
   "metadata": {
    "tags": [],
    "ExecuteTime": {
     "end_time": "2024-04-29T08:30:36.017291Z",
     "start_time": "2024-04-29T08:30:35.978709Z"
    }
   },
   "source": [
    "# Set random seed for reproducibility\n",
    "np.random.seed(42)\n",
    "\n",
    "# Read data\n",
    "cwd = os.getcwd()\n",
    "print(cwd)\n",
    "\n",
    "X_train_path = os.path.join(cwd, \"folds\", \"synthetic_1_fold_1_X_train.txt\")\n",
    "X_test_path = os.path.join(cwd, \"folds\", \"synthetic_1_fold_1_X_test.txt\")\n",
    "Y_train_path = os.path.join(cwd, \"folds\", \"synthetic_1_fold_1_Y_train.txt\")\n",
    "Y_test_path = os.path.join(cwd, \"folds\", \"synthetic_1_fold_1_Y_test.txt\")\n",
    "\n",
    "x_obs = np.loadtxt(X_train_path)\n",
    "y_obs = np.loadtxt(Y_train_path)\n",
    "x_val = np.loadtxt(X_test_path)\n",
    "y_val = np.loadtxt(Y_test_path)\n",
    "\n",
    "# Set plot limits and labels\n",
    "xlims = [-0.2, 0.2]\n",
    "\n",
    "# The X and Y have to be at least 2-dim\n",
    "x_train = torch.from_numpy(x_obs).float().reshape(-1,1)\n",
    "y_train = torch.from_numpy(y_obs).float()\n",
    "x_test = torch.from_numpy(x_val).float().reshape(-1,1)\n",
    "y_test = torch.from_numpy(y_val).float()"
   ],
   "outputs": [
    {
     "name": "stdout",
     "output_type": "stream",
     "text": [
      "C:\\Users\\yuanq\\OneDrive\\Desktopold\\SB\\research\\DGPII\\program\\DGP-RFF-main\n"
     ]
    }
   ],
   "execution_count": 7
  },
  {
   "metadata": {
    "ExecuteTime": {
     "end_time": "2024-04-29T08:30:36.021239Z",
     "start_time": "2024-04-29T08:30:36.018296Z"
    }
   },
   "cell_type": "code",
   "source": "x_train = x_train.cuda()\n",
   "id": "86d4033f31f79e6e",
   "outputs": [],
   "execution_count": 8
  },
  {
   "metadata": {
    "ExecuteTime": {
     "end_time": "2024-04-29T08:30:36.030396Z",
     "start_time": "2024-04-29T08:30:36.022245Z"
    }
   },
   "cell_type": "code",
   "source": [
    "y_train = y_train.cuda()\n",
    "x_test = x_test.cuda()\n",
    "y_test = y_test.cuda()"
   ],
   "id": "dc3487e3dd203d23",
   "outputs": [],
   "execution_count": 9
  },
  {
   "metadata": {
    "ExecuteTime": {
     "end_time": "2024-04-29T08:30:36.035721Z",
     "start_time": "2024-04-29T08:30:36.031401Z"
    }
   },
   "cell_type": "code",
   "source": "x_train.device",
   "id": "7bbe951cd01dbbc3",
   "outputs": [
    {
     "data": {
      "text/plain": [
       "device(type='cuda', index=0)"
      ]
     },
     "execution_count": 10,
     "metadata": {},
     "output_type": "execute_result"
    }
   ],
   "execution_count": 10
  },
  {
   "cell_type": "code",
   "id": "d95fdaea-f245-423b-ac9d-6c527ae8bd14",
   "metadata": {
    "tags": [],
    "ExecuteTime": {
     "end_time": "2024-04-29T08:30:36.039653Z",
     "start_time": "2024-04-29T08:30:36.035721Z"
    }
   },
   "source": [
    "\n",
    "\n",
    "  # X = [\n",
    "#     [1,2,3],\n",
    "#     [4,5,6,7,8]\n",
    "#     ]\n",
    "# X_path = os.path.join(cwd, \"folds\", \"test.pickle\")\n",
    "# with open(X_path, 'wb') as f:\n",
    "#     pickle.dump(X, f)"
   ],
   "outputs": [],
   "execution_count": 11
  },
  {
   "cell_type": "code",
   "id": "f1c587d2-82ff-41b9-aa8a-3752c050afd3",
   "metadata": {
    "tags": [],
    "ExecuteTime": {
     "end_time": "2024-04-29T08:30:36.043385Z",
     "start_time": "2024-04-29T08:30:36.040659Z"
    }
   },
   "source": [
    "# with open(X_path, 'rb') as f:\n",
    "#     X_read = pickle.load(f)"
   ],
   "outputs": [],
   "execution_count": 12
  },
  {
   "cell_type": "code",
   "id": "4d60fd52-887a-4ca5-9b03-8c4777801f8c",
   "metadata": {
    "tags": [],
    "ExecuteTime": {
     "end_time": "2024-04-29T08:30:36.049700Z",
     "start_time": "2024-04-29T08:30:36.044391Z"
    }
   },
   "source": [
    "class Model(PyroModule):\n",
    "    def __init__(self, in_dim=1, out_dim=1, J=50):\n",
    "        super().__init__()\n",
    "        \n",
    "        self.out_dim = out_dim\n",
    "        self.model = SingleCauchyGP(in_dim, out_dim, J)\n",
    "        self.model.to('cuda')\n",
    "\n",
    "    def forward(self, x, y=None):\n",
    "        mu = self.model(x).squeeze() #10000*6\n",
    "        \n",
    "        # batch shape | event shapt\n",
    "        # 10000       |\n",
    "        \n",
    "        scale = pyro.sample(\"sigma\", dist.Gamma(torch.tensor(0.5, device='cuda'), torch.tensor(1.0, device='cuda'))).expand(self.out_dim)  # Infer the response noise\n",
    "\n",
    "        # Sampling model\n",
    "        with pyro.plate(\"data\", x.shape[0]): # x.shape[0]=10000\n",
    "            # obs = xxx(\"obs\", mu, obs=y)\n",
    "            obs = pyro.sample(\"obs\", dist.MultivariateNormal(mu.cuda(), torch.diag(scale * scale).cuda()), obs=y)\n",
    "            \n",
    "#         f1: phi(Omega x)W (+ epsilon1)\n",
    "#         f2: phi(Omega f1)W (+ epsilon2)\n",
    "        \n",
    "#         f2 + epsilon ~ N(0, Sigma)\n",
    "            \n",
    "        return mu"
   ],
   "outputs": [],
   "execution_count": 13
  },
  {
   "cell_type": "code",
   "id": "71f9724a8eb2b703",
   "metadata": {
    "tags": [],
    "ExecuteTime": {
     "end_time": "2024-04-29T08:30:36.172687Z",
     "start_time": "2024-04-29T08:30:36.051708Z"
    }
   },
   "source": [
    "model = Model(in_dim=x_train.shape[1], out_dim=y_train.shape[1], J=50)\n",
    "model = model.to('cuda')"
   ],
   "outputs": [
    {
     "name": "stdout",
     "output_type": "stream",
     "text": [
      "[FirstCauchyLayer(\n",
      "  (layer): PyroLinear(in_features=1, out_features=50, bias=False)\n",
      "), SecondLayer(\n",
      "  (layer): PyroLinear(in_features=100, out_features=6, bias=True)\n",
      ")]\n"
     ]
    }
   ],
   "execution_count": 14
  },
  {
   "metadata": {
    "ExecuteTime": {
     "end_time": "2024-04-29T08:30:43.877236Z",
     "start_time": "2024-04-29T08:30:36.173691Z"
    }
   },
   "cell_type": "code",
   "source": [
    "mean_field_guide = AutoDiagonalNormal(model)\n",
    "optimizer = pyro.optim.Adam({\"lr\": 0.001})\n",
    "\n",
    "svi = SVI(model, mean_field_guide, optimizer, loss=Trace_ELBO())\n",
    "pyro.clear_param_store()\n",
    "\n",
    "num_epochs = 25000\n",
    "progress_bar = trange(num_epochs)\n",
    "\n",
    "for epoch in progress_bar:\n",
    "    loss = svi.step(x_train, y_train)\n",
    "    progress_bar.set_postfix(loss=f\"{loss / x_train.shape[0]:.3f}\")"
   ],
   "id": "b3ecd508-5a6a-41ba-aac0-a5ffd711229a",
   "outputs": [
    {
     "data": {
      "text/plain": [
       "  0%|          | 0/25000 [00:00<?, ?it/s]"
      ],
      "application/vnd.jupyter.widget-view+json": {
       "version_major": 2,
       "version_minor": 0,
       "model_id": "38579bc7d6a4429f98e7cc0fde2b6ba7"
      }
     },
     "metadata": {},
     "output_type": "display_data"
    },
    {
     "ename": "KeyboardInterrupt",
     "evalue": "",
     "output_type": "error",
     "traceback": [
      "\u001B[1;31m---------------------------------------------------------------------------\u001B[0m",
      "\u001B[1;31mKeyboardInterrupt\u001B[0m                         Traceback (most recent call last)",
      "Cell \u001B[1;32mIn[15], line 11\u001B[0m\n\u001B[0;32m      8\u001B[0m progress_bar \u001B[38;5;241m=\u001B[39m trange(num_epochs)\n\u001B[0;32m     10\u001B[0m \u001B[38;5;28;01mfor\u001B[39;00m epoch \u001B[38;5;129;01min\u001B[39;00m progress_bar:\n\u001B[1;32m---> 11\u001B[0m     loss \u001B[38;5;241m=\u001B[39m \u001B[43msvi\u001B[49m\u001B[38;5;241;43m.\u001B[39;49m\u001B[43mstep\u001B[49m\u001B[43m(\u001B[49m\u001B[43mx_train\u001B[49m\u001B[43m,\u001B[49m\u001B[43m \u001B[49m\u001B[43my_train\u001B[49m\u001B[43m)\u001B[49m\n\u001B[0;32m     12\u001B[0m     progress_bar\u001B[38;5;241m.\u001B[39mset_postfix(loss\u001B[38;5;241m=\u001B[39m\u001B[38;5;124mf\u001B[39m\u001B[38;5;124m\"\u001B[39m\u001B[38;5;132;01m{\u001B[39;00mloss\u001B[38;5;250m \u001B[39m\u001B[38;5;241m/\u001B[39m\u001B[38;5;250m \u001B[39mx_train\u001B[38;5;241m.\u001B[39mshape[\u001B[38;5;241m0\u001B[39m]\u001B[38;5;132;01m:\u001B[39;00m\u001B[38;5;124m.3f\u001B[39m\u001B[38;5;132;01m}\u001B[39;00m\u001B[38;5;124m\"\u001B[39m)\n",
      "File \u001B[1;32m~\\OneDrive\\Desktopold\\SB\\research\\DGPII\\program\\DGP-RFF-main\\venv\\Lib\\site-packages\\pyro\\infer\\svi.py:145\u001B[0m, in \u001B[0;36mSVI.step\u001B[1;34m(self, *args, **kwargs)\u001B[0m\n\u001B[0;32m    143\u001B[0m \u001B[38;5;66;03m# get loss and compute gradients\u001B[39;00m\n\u001B[0;32m    144\u001B[0m \u001B[38;5;28;01mwith\u001B[39;00m poutine\u001B[38;5;241m.\u001B[39mtrace(param_only\u001B[38;5;241m=\u001B[39m\u001B[38;5;28;01mTrue\u001B[39;00m) \u001B[38;5;28;01mas\u001B[39;00m param_capture:\n\u001B[1;32m--> 145\u001B[0m     loss \u001B[38;5;241m=\u001B[39m \u001B[38;5;28;43mself\u001B[39;49m\u001B[38;5;241;43m.\u001B[39;49m\u001B[43mloss_and_grads\u001B[49m\u001B[43m(\u001B[49m\u001B[38;5;28;43mself\u001B[39;49m\u001B[38;5;241;43m.\u001B[39;49m\u001B[43mmodel\u001B[49m\u001B[43m,\u001B[49m\u001B[43m \u001B[49m\u001B[38;5;28;43mself\u001B[39;49m\u001B[38;5;241;43m.\u001B[39;49m\u001B[43mguide\u001B[49m\u001B[43m,\u001B[49m\u001B[43m \u001B[49m\u001B[38;5;241;43m*\u001B[39;49m\u001B[43margs\u001B[49m\u001B[43m,\u001B[49m\u001B[43m \u001B[49m\u001B[38;5;241;43m*\u001B[39;49m\u001B[38;5;241;43m*\u001B[39;49m\u001B[43mkwargs\u001B[49m\u001B[43m)\u001B[49m\n\u001B[0;32m    147\u001B[0m params \u001B[38;5;241m=\u001B[39m \u001B[38;5;28mset\u001B[39m(\n\u001B[0;32m    148\u001B[0m     site[\u001B[38;5;124m\"\u001B[39m\u001B[38;5;124mvalue\u001B[39m\u001B[38;5;124m\"\u001B[39m]\u001B[38;5;241m.\u001B[39munconstrained() \u001B[38;5;28;01mfor\u001B[39;00m site \u001B[38;5;129;01min\u001B[39;00m param_capture\u001B[38;5;241m.\u001B[39mtrace\u001B[38;5;241m.\u001B[39mnodes\u001B[38;5;241m.\u001B[39mvalues()\n\u001B[0;32m    149\u001B[0m )\n\u001B[0;32m    151\u001B[0m \u001B[38;5;66;03m# actually perform gradient steps\u001B[39;00m\n\u001B[0;32m    152\u001B[0m \u001B[38;5;66;03m# torch.optim objects gets instantiated for any params that haven't been seen yet\u001B[39;00m\n",
      "File \u001B[1;32m~\\OneDrive\\Desktopold\\SB\\research\\DGPII\\program\\DGP-RFF-main\\venv\\Lib\\site-packages\\pyro\\infer\\trace_elbo.py:140\u001B[0m, in \u001B[0;36mTrace_ELBO.loss_and_grads\u001B[1;34m(self, model, guide, *args, **kwargs)\u001B[0m\n\u001B[0;32m    138\u001B[0m loss \u001B[38;5;241m=\u001B[39m \u001B[38;5;241m0.0\u001B[39m\n\u001B[0;32m    139\u001B[0m \u001B[38;5;66;03m# grab a trace from the generator\u001B[39;00m\n\u001B[1;32m--> 140\u001B[0m \u001B[43m\u001B[49m\u001B[38;5;28;43;01mfor\u001B[39;49;00m\u001B[43m \u001B[49m\u001B[43mmodel_trace\u001B[49m\u001B[43m,\u001B[49m\u001B[43m \u001B[49m\u001B[43mguide_trace\u001B[49m\u001B[43m \u001B[49m\u001B[38;5;129;43;01min\u001B[39;49;00m\u001B[43m \u001B[49m\u001B[38;5;28;43mself\u001B[39;49m\u001B[38;5;241;43m.\u001B[39;49m\u001B[43m_get_traces\u001B[49m\u001B[43m(\u001B[49m\u001B[43mmodel\u001B[49m\u001B[43m,\u001B[49m\u001B[43m \u001B[49m\u001B[43mguide\u001B[49m\u001B[43m,\u001B[49m\u001B[43m \u001B[49m\u001B[43margs\u001B[49m\u001B[43m,\u001B[49m\u001B[43m \u001B[49m\u001B[43mkwargs\u001B[49m\u001B[43m)\u001B[49m\u001B[43m:\u001B[49m\n\u001B[0;32m    141\u001B[0m \u001B[43m    \u001B[49m\u001B[43mloss_particle\u001B[49m\u001B[43m,\u001B[49m\u001B[43m \u001B[49m\u001B[43msurrogate_loss_particle\u001B[49m\u001B[43m \u001B[49m\u001B[38;5;241;43m=\u001B[39;49m\u001B[43m \u001B[49m\u001B[38;5;28;43mself\u001B[39;49m\u001B[38;5;241;43m.\u001B[39;49m\u001B[43m_differentiable_loss_particle\u001B[49m\u001B[43m(\u001B[49m\n\u001B[0;32m    142\u001B[0m \u001B[43m        \u001B[49m\u001B[43mmodel_trace\u001B[49m\u001B[43m,\u001B[49m\u001B[43m \u001B[49m\u001B[43mguide_trace\u001B[49m\n\u001B[0;32m    143\u001B[0m \u001B[43m    \u001B[49m\u001B[43m)\u001B[49m\n\u001B[0;32m    144\u001B[0m \u001B[43m    \u001B[49m\u001B[43mloss\u001B[49m\u001B[43m \u001B[49m\u001B[38;5;241;43m+\u001B[39;49m\u001B[38;5;241;43m=\u001B[39;49m\u001B[43m \u001B[49m\u001B[43mloss_particle\u001B[49m\u001B[43m \u001B[49m\u001B[38;5;241;43m/\u001B[39;49m\u001B[43m \u001B[49m\u001B[38;5;28;43mself\u001B[39;49m\u001B[38;5;241;43m.\u001B[39;49m\u001B[43mnum_particles\u001B[49m\n",
      "File \u001B[1;32m~\\OneDrive\\Desktopold\\SB\\research\\DGPII\\program\\DGP-RFF-main\\venv\\Lib\\site-packages\\pyro\\infer\\elbo.py:237\u001B[0m, in \u001B[0;36mELBO._get_traces\u001B[1;34m(self, model, guide, args, kwargs)\u001B[0m\n\u001B[0;32m    235\u001B[0m \u001B[38;5;28;01melse\u001B[39;00m:\n\u001B[0;32m    236\u001B[0m     \u001B[38;5;28;01mfor\u001B[39;00m i \u001B[38;5;129;01min\u001B[39;00m \u001B[38;5;28mrange\u001B[39m(\u001B[38;5;28mself\u001B[39m\u001B[38;5;241m.\u001B[39mnum_particles):\n\u001B[1;32m--> 237\u001B[0m         \u001B[38;5;28;01myield\u001B[39;00m \u001B[38;5;28;43mself\u001B[39;49m\u001B[38;5;241;43m.\u001B[39;49m\u001B[43m_get_trace\u001B[49m\u001B[43m(\u001B[49m\u001B[43mmodel\u001B[49m\u001B[43m,\u001B[49m\u001B[43m \u001B[49m\u001B[43mguide\u001B[49m\u001B[43m,\u001B[49m\u001B[43m \u001B[49m\u001B[43margs\u001B[49m\u001B[43m,\u001B[49m\u001B[43m \u001B[49m\u001B[43mkwargs\u001B[49m\u001B[43m)\u001B[49m\n",
      "File \u001B[1;32m~\\OneDrive\\Desktopold\\SB\\research\\DGPII\\program\\DGP-RFF-main\\venv\\Lib\\site-packages\\pyro\\infer\\trace_elbo.py:57\u001B[0m, in \u001B[0;36mTrace_ELBO._get_trace\u001B[1;34m(self, model, guide, args, kwargs)\u001B[0m\n\u001B[0;32m     52\u001B[0m \u001B[38;5;28;01mdef\u001B[39;00m \u001B[38;5;21m_get_trace\u001B[39m(\u001B[38;5;28mself\u001B[39m, model, guide, args, kwargs):\n\u001B[0;32m     53\u001B[0m \u001B[38;5;250m    \u001B[39m\u001B[38;5;124;03m\"\"\"\u001B[39;00m\n\u001B[0;32m     54\u001B[0m \u001B[38;5;124;03m    Returns a single trace from the guide, and the model that is run\u001B[39;00m\n\u001B[0;32m     55\u001B[0m \u001B[38;5;124;03m    against it.\u001B[39;00m\n\u001B[0;32m     56\u001B[0m \u001B[38;5;124;03m    \"\"\"\u001B[39;00m\n\u001B[1;32m---> 57\u001B[0m     model_trace, guide_trace \u001B[38;5;241m=\u001B[39m \u001B[43mget_importance_trace\u001B[49m\u001B[43m(\u001B[49m\n\u001B[0;32m     58\u001B[0m \u001B[43m        \u001B[49m\u001B[38;5;124;43m\"\u001B[39;49m\u001B[38;5;124;43mflat\u001B[39;49m\u001B[38;5;124;43m\"\u001B[39;49m\u001B[43m,\u001B[49m\u001B[43m \u001B[49m\u001B[38;5;28;43mself\u001B[39;49m\u001B[38;5;241;43m.\u001B[39;49m\u001B[43mmax_plate_nesting\u001B[49m\u001B[43m,\u001B[49m\u001B[43m \u001B[49m\u001B[43mmodel\u001B[49m\u001B[43m,\u001B[49m\u001B[43m \u001B[49m\u001B[43mguide\u001B[49m\u001B[43m,\u001B[49m\u001B[43m \u001B[49m\u001B[43margs\u001B[49m\u001B[43m,\u001B[49m\u001B[43m \u001B[49m\u001B[43mkwargs\u001B[49m\n\u001B[0;32m     59\u001B[0m \u001B[43m    \u001B[49m\u001B[43m)\u001B[49m\n\u001B[0;32m     60\u001B[0m     \u001B[38;5;28;01mif\u001B[39;00m is_validation_enabled():\n\u001B[0;32m     61\u001B[0m         check_if_enumerated(guide_trace)\n",
      "File \u001B[1;32m~\\OneDrive\\Desktopold\\SB\\research\\DGPII\\program\\DGP-RFF-main\\venv\\Lib\\site-packages\\pyro\\infer\\enum.py:65\u001B[0m, in \u001B[0;36mget_importance_trace\u001B[1;34m(graph_type, max_plate_nesting, model, guide, args, kwargs, detach)\u001B[0m\n\u001B[0;32m     63\u001B[0m     \u001B[38;5;28;01mif\u001B[39;00m detach:\n\u001B[0;32m     64\u001B[0m         guide_trace\u001B[38;5;241m.\u001B[39mdetach_()\n\u001B[1;32m---> 65\u001B[0m     model_trace \u001B[38;5;241m=\u001B[39m \u001B[43mpoutine\u001B[49m\u001B[38;5;241;43m.\u001B[39;49m\u001B[43mtrace\u001B[49m\u001B[43m(\u001B[49m\n\u001B[0;32m     66\u001B[0m \u001B[43m        \u001B[49m\u001B[43mpoutine\u001B[49m\u001B[38;5;241;43m.\u001B[39;49m\u001B[43mreplay\u001B[49m\u001B[43m(\u001B[49m\u001B[43mmodel\u001B[49m\u001B[43m,\u001B[49m\u001B[43m \u001B[49m\u001B[43mtrace\u001B[49m\u001B[38;5;241;43m=\u001B[39;49m\u001B[43mguide_trace\u001B[49m\u001B[43m)\u001B[49m\u001B[43m,\u001B[49m\u001B[43m \u001B[49m\u001B[43mgraph_type\u001B[49m\u001B[38;5;241;43m=\u001B[39;49m\u001B[43mgraph_type\u001B[49m\n\u001B[0;32m     67\u001B[0m \u001B[43m    \u001B[49m\u001B[43m)\u001B[49m\u001B[38;5;241;43m.\u001B[39;49m\u001B[43mget_trace\u001B[49m\u001B[43m(\u001B[49m\u001B[38;5;241;43m*\u001B[39;49m\u001B[43margs\u001B[49m\u001B[43m,\u001B[49m\u001B[43m \u001B[49m\u001B[38;5;241;43m*\u001B[39;49m\u001B[38;5;241;43m*\u001B[39;49m\u001B[43mkwargs\u001B[49m\u001B[43m)\u001B[49m\n\u001B[0;32m     69\u001B[0m \u001B[38;5;28;01mif\u001B[39;00m is_validation_enabled():\n\u001B[0;32m     70\u001B[0m     check_model_guide_match(model_trace, guide_trace, max_plate_nesting)\n",
      "File \u001B[1;32m~\\OneDrive\\Desktopold\\SB\\research\\DGPII\\program\\DGP-RFF-main\\venv\\Lib\\site-packages\\pyro\\poutine\\trace_messenger.py:216\u001B[0m, in \u001B[0;36mTraceHandler.get_trace\u001B[1;34m(self, *args, **kwargs)\u001B[0m\n\u001B[0;32m    208\u001B[0m \u001B[38;5;28;01mdef\u001B[39;00m \u001B[38;5;21mget_trace\u001B[39m(\u001B[38;5;28mself\u001B[39m, \u001B[38;5;241m*\u001B[39margs, \u001B[38;5;241m*\u001B[39m\u001B[38;5;241m*\u001B[39mkwargs) \u001B[38;5;241m-\u001B[39m\u001B[38;5;241m>\u001B[39m Trace:\n\u001B[0;32m    209\u001B[0m \u001B[38;5;250m    \u001B[39m\u001B[38;5;124;03m\"\"\"\u001B[39;00m\n\u001B[0;32m    210\u001B[0m \u001B[38;5;124;03m    :returns: data structure\u001B[39;00m\n\u001B[0;32m    211\u001B[0m \u001B[38;5;124;03m    :rtype: pyro.poutine.Trace\u001B[39;00m\n\u001B[1;32m   (...)\u001B[0m\n\u001B[0;32m    214\u001B[0m \u001B[38;5;124;03m    Calls this poutine and returns its trace instead of the function's return value.\u001B[39;00m\n\u001B[0;32m    215\u001B[0m \u001B[38;5;124;03m    \"\"\"\u001B[39;00m\n\u001B[1;32m--> 216\u001B[0m     \u001B[38;5;28;43mself\u001B[39;49m\u001B[43m(\u001B[49m\u001B[38;5;241;43m*\u001B[39;49m\u001B[43margs\u001B[49m\u001B[43m,\u001B[49m\u001B[43m \u001B[49m\u001B[38;5;241;43m*\u001B[39;49m\u001B[38;5;241;43m*\u001B[39;49m\u001B[43mkwargs\u001B[49m\u001B[43m)\u001B[49m\n\u001B[0;32m    217\u001B[0m     \u001B[38;5;28;01mreturn\u001B[39;00m \u001B[38;5;28mself\u001B[39m\u001B[38;5;241m.\u001B[39mmsngr\u001B[38;5;241m.\u001B[39mget_trace()\n",
      "File \u001B[1;32m~\\OneDrive\\Desktopold\\SB\\research\\DGPII\\program\\DGP-RFF-main\\venv\\Lib\\site-packages\\pyro\\poutine\\trace_messenger.py:191\u001B[0m, in \u001B[0;36mTraceHandler.__call__\u001B[1;34m(self, *args, **kwargs)\u001B[0m\n\u001B[0;32m    187\u001B[0m \u001B[38;5;28mself\u001B[39m\u001B[38;5;241m.\u001B[39mmsngr\u001B[38;5;241m.\u001B[39mtrace\u001B[38;5;241m.\u001B[39madd_node(\n\u001B[0;32m    188\u001B[0m     \u001B[38;5;124m\"\u001B[39m\u001B[38;5;124m_INPUT\u001B[39m\u001B[38;5;124m\"\u001B[39m, name\u001B[38;5;241m=\u001B[39m\u001B[38;5;124m\"\u001B[39m\u001B[38;5;124m_INPUT\u001B[39m\u001B[38;5;124m\"\u001B[39m, \u001B[38;5;28mtype\u001B[39m\u001B[38;5;241m=\u001B[39m\u001B[38;5;124m\"\u001B[39m\u001B[38;5;124margs\u001B[39m\u001B[38;5;124m\"\u001B[39m, args\u001B[38;5;241m=\u001B[39margs, kwargs\u001B[38;5;241m=\u001B[39mkwargs\n\u001B[0;32m    189\u001B[0m )\n\u001B[0;32m    190\u001B[0m \u001B[38;5;28;01mtry\u001B[39;00m:\n\u001B[1;32m--> 191\u001B[0m     ret \u001B[38;5;241m=\u001B[39m \u001B[38;5;28;43mself\u001B[39;49m\u001B[38;5;241;43m.\u001B[39;49m\u001B[43mfn\u001B[49m\u001B[43m(\u001B[49m\u001B[38;5;241;43m*\u001B[39;49m\u001B[43margs\u001B[49m\u001B[43m,\u001B[49m\u001B[43m \u001B[49m\u001B[38;5;241;43m*\u001B[39;49m\u001B[38;5;241;43m*\u001B[39;49m\u001B[43mkwargs\u001B[49m\u001B[43m)\u001B[49m\n\u001B[0;32m    192\u001B[0m \u001B[38;5;28;01mexcept\u001B[39;00m (\u001B[38;5;167;01mValueError\u001B[39;00m, \u001B[38;5;167;01mRuntimeError\u001B[39;00m) \u001B[38;5;28;01mas\u001B[39;00m e:\n\u001B[0;32m    193\u001B[0m     exc_type, exc_value, traceback \u001B[38;5;241m=\u001B[39m sys\u001B[38;5;241m.\u001B[39mexc_info()\n",
      "File \u001B[1;32m~\\OneDrive\\Desktopold\\SB\\research\\DGPII\\program\\DGP-RFF-main\\venv\\Lib\\site-packages\\pyro\\poutine\\messenger.py:32\u001B[0m, in \u001B[0;36m_context_wrap\u001B[1;34m(context, fn, *args, **kwargs)\u001B[0m\n\u001B[0;32m     25\u001B[0m \u001B[38;5;28;01mdef\u001B[39;00m \u001B[38;5;21m_context_wrap\u001B[39m(\n\u001B[0;32m     26\u001B[0m     context: \u001B[38;5;124m\"\u001B[39m\u001B[38;5;124mMessenger\u001B[39m\u001B[38;5;124m\"\u001B[39m,\n\u001B[0;32m     27\u001B[0m     fn: Callable,\n\u001B[0;32m     28\u001B[0m     \u001B[38;5;241m*\u001B[39margs: Any,\n\u001B[0;32m     29\u001B[0m     \u001B[38;5;241m*\u001B[39m\u001B[38;5;241m*\u001B[39mkwargs: Any,\n\u001B[0;32m     30\u001B[0m ) \u001B[38;5;241m-\u001B[39m\u001B[38;5;241m>\u001B[39m Any:\n\u001B[0;32m     31\u001B[0m     \u001B[38;5;28;01mwith\u001B[39;00m context:\n\u001B[1;32m---> 32\u001B[0m         \u001B[38;5;28;01mreturn\u001B[39;00m \u001B[43mfn\u001B[49m\u001B[43m(\u001B[49m\u001B[38;5;241;43m*\u001B[39;49m\u001B[43margs\u001B[49m\u001B[43m,\u001B[49m\u001B[43m \u001B[49m\u001B[38;5;241;43m*\u001B[39;49m\u001B[38;5;241;43m*\u001B[39;49m\u001B[43mkwargs\u001B[49m\u001B[43m)\u001B[49m\n",
      "File \u001B[1;32m~\\OneDrive\\Desktopold\\SB\\research\\DGPII\\program\\DGP-RFF-main\\venv\\Lib\\site-packages\\pyro\\nn\\module.py:450\u001B[0m, in \u001B[0;36mPyroModule.__call__\u001B[1;34m(self, *args, **kwargs)\u001B[0m\n\u001B[0;32m    448\u001B[0m \u001B[38;5;28;01mdef\u001B[39;00m \u001B[38;5;21m__call__\u001B[39m(\u001B[38;5;28mself\u001B[39m, \u001B[38;5;241m*\u001B[39margs, \u001B[38;5;241m*\u001B[39m\u001B[38;5;241m*\u001B[39mkwargs):\n\u001B[0;32m    449\u001B[0m     \u001B[38;5;28;01mwith\u001B[39;00m \u001B[38;5;28mself\u001B[39m\u001B[38;5;241m.\u001B[39m_pyro_context:\n\u001B[1;32m--> 450\u001B[0m         result \u001B[38;5;241m=\u001B[39m \u001B[38;5;28;43msuper\u001B[39;49m\u001B[43m(\u001B[49m\u001B[43m)\u001B[49m\u001B[38;5;241;43m.\u001B[39;49m\u001B[38;5;21;43m__call__\u001B[39;49m\u001B[43m(\u001B[49m\u001B[38;5;241;43m*\u001B[39;49m\u001B[43margs\u001B[49m\u001B[43m,\u001B[49m\u001B[43m \u001B[49m\u001B[38;5;241;43m*\u001B[39;49m\u001B[38;5;241;43m*\u001B[39;49m\u001B[43mkwargs\u001B[49m\u001B[43m)\u001B[49m\n\u001B[0;32m    451\u001B[0m     \u001B[38;5;28;01mif\u001B[39;00m (\n\u001B[0;32m    452\u001B[0m         pyro\u001B[38;5;241m.\u001B[39msettings\u001B[38;5;241m.\u001B[39mget(\u001B[38;5;124m\"\u001B[39m\u001B[38;5;124mvalidate_poutine\u001B[39m\u001B[38;5;124m\"\u001B[39m)\n\u001B[0;32m    453\u001B[0m         \u001B[38;5;129;01mand\u001B[39;00m \u001B[38;5;129;01mnot\u001B[39;00m \u001B[38;5;28mself\u001B[39m\u001B[38;5;241m.\u001B[39m_pyro_context\u001B[38;5;241m.\u001B[39mactive\n\u001B[0;32m    454\u001B[0m         \u001B[38;5;129;01mand\u001B[39;00m _is_module_local_param_enabled()\n\u001B[0;32m    455\u001B[0m     ):\n\u001B[0;32m    456\u001B[0m         \u001B[38;5;28mself\u001B[39m\u001B[38;5;241m.\u001B[39m_check_module_local_param_usage()\n",
      "File \u001B[1;32m~\\OneDrive\\Desktopold\\SB\\research\\DGPII\\program\\DGP-RFF-main\\venv\\Lib\\site-packages\\torch\\nn\\modules\\module.py:1532\u001B[0m, in \u001B[0;36mModule._wrapped_call_impl\u001B[1;34m(self, *args, **kwargs)\u001B[0m\n\u001B[0;32m   1530\u001B[0m     \u001B[38;5;28;01mreturn\u001B[39;00m \u001B[38;5;28mself\u001B[39m\u001B[38;5;241m.\u001B[39m_compiled_call_impl(\u001B[38;5;241m*\u001B[39margs, \u001B[38;5;241m*\u001B[39m\u001B[38;5;241m*\u001B[39mkwargs)  \u001B[38;5;66;03m# type: ignore[misc]\u001B[39;00m\n\u001B[0;32m   1531\u001B[0m \u001B[38;5;28;01melse\u001B[39;00m:\n\u001B[1;32m-> 1532\u001B[0m     \u001B[38;5;28;01mreturn\u001B[39;00m \u001B[38;5;28;43mself\u001B[39;49m\u001B[38;5;241;43m.\u001B[39;49m\u001B[43m_call_impl\u001B[49m\u001B[43m(\u001B[49m\u001B[38;5;241;43m*\u001B[39;49m\u001B[43margs\u001B[49m\u001B[43m,\u001B[49m\u001B[43m \u001B[49m\u001B[38;5;241;43m*\u001B[39;49m\u001B[38;5;241;43m*\u001B[39;49m\u001B[43mkwargs\u001B[49m\u001B[43m)\u001B[49m\n",
      "File \u001B[1;32m~\\OneDrive\\Desktopold\\SB\\research\\DGPII\\program\\DGP-RFF-main\\venv\\Lib\\site-packages\\torch\\nn\\modules\\module.py:1541\u001B[0m, in \u001B[0;36mModule._call_impl\u001B[1;34m(self, *args, **kwargs)\u001B[0m\n\u001B[0;32m   1536\u001B[0m \u001B[38;5;66;03m# If we don't have any hooks, we want to skip the rest of the logic in\u001B[39;00m\n\u001B[0;32m   1537\u001B[0m \u001B[38;5;66;03m# this function, and just call forward.\u001B[39;00m\n\u001B[0;32m   1538\u001B[0m \u001B[38;5;28;01mif\u001B[39;00m \u001B[38;5;129;01mnot\u001B[39;00m (\u001B[38;5;28mself\u001B[39m\u001B[38;5;241m.\u001B[39m_backward_hooks \u001B[38;5;129;01mor\u001B[39;00m \u001B[38;5;28mself\u001B[39m\u001B[38;5;241m.\u001B[39m_backward_pre_hooks \u001B[38;5;129;01mor\u001B[39;00m \u001B[38;5;28mself\u001B[39m\u001B[38;5;241m.\u001B[39m_forward_hooks \u001B[38;5;129;01mor\u001B[39;00m \u001B[38;5;28mself\u001B[39m\u001B[38;5;241m.\u001B[39m_forward_pre_hooks\n\u001B[0;32m   1539\u001B[0m         \u001B[38;5;129;01mor\u001B[39;00m _global_backward_pre_hooks \u001B[38;5;129;01mor\u001B[39;00m _global_backward_hooks\n\u001B[0;32m   1540\u001B[0m         \u001B[38;5;129;01mor\u001B[39;00m _global_forward_hooks \u001B[38;5;129;01mor\u001B[39;00m _global_forward_pre_hooks):\n\u001B[1;32m-> 1541\u001B[0m     \u001B[38;5;28;01mreturn\u001B[39;00m \u001B[43mforward_call\u001B[49m\u001B[43m(\u001B[49m\u001B[38;5;241;43m*\u001B[39;49m\u001B[43margs\u001B[49m\u001B[43m,\u001B[49m\u001B[43m \u001B[49m\u001B[38;5;241;43m*\u001B[39;49m\u001B[38;5;241;43m*\u001B[39;49m\u001B[43mkwargs\u001B[49m\u001B[43m)\u001B[49m\n\u001B[0;32m   1543\u001B[0m \u001B[38;5;28;01mtry\u001B[39;00m:\n\u001B[0;32m   1544\u001B[0m     result \u001B[38;5;241m=\u001B[39m \u001B[38;5;28;01mNone\u001B[39;00m\n",
      "Cell \u001B[1;32mIn[13], line 15\u001B[0m, in \u001B[0;36mModel.forward\u001B[1;34m(self, x, y)\u001B[0m\n\u001B[0;32m     10\u001B[0m mu \u001B[38;5;241m=\u001B[39m \u001B[38;5;28mself\u001B[39m\u001B[38;5;241m.\u001B[39mmodel(x)\u001B[38;5;241m.\u001B[39msqueeze() \u001B[38;5;66;03m#10000*6\u001B[39;00m\n\u001B[0;32m     12\u001B[0m \u001B[38;5;66;03m# batch shape | event shapt\u001B[39;00m\n\u001B[0;32m     13\u001B[0m \u001B[38;5;66;03m# 10000       |\u001B[39;00m\n\u001B[1;32m---> 15\u001B[0m scale \u001B[38;5;241m=\u001B[39m pyro\u001B[38;5;241m.\u001B[39msample(\u001B[38;5;124m\"\u001B[39m\u001B[38;5;124msigma\u001B[39m\u001B[38;5;124m\"\u001B[39m, \u001B[43mdist\u001B[49m\u001B[38;5;241;43m.\u001B[39;49m\u001B[43mGamma\u001B[49m\u001B[43m(\u001B[49m\u001B[43mtorch\u001B[49m\u001B[38;5;241;43m.\u001B[39;49m\u001B[43mtensor\u001B[49m\u001B[43m(\u001B[49m\u001B[38;5;241;43m0.5\u001B[39;49m\u001B[43m,\u001B[49m\u001B[43m \u001B[49m\u001B[43mdevice\u001B[49m\u001B[38;5;241;43m=\u001B[39;49m\u001B[38;5;124;43m'\u001B[39;49m\u001B[38;5;124;43mcuda\u001B[39;49m\u001B[38;5;124;43m'\u001B[39;49m\u001B[43m)\u001B[49m\u001B[43m,\u001B[49m\u001B[43m \u001B[49m\u001B[43mtorch\u001B[49m\u001B[38;5;241;43m.\u001B[39;49m\u001B[43mtensor\u001B[49m\u001B[43m(\u001B[49m\u001B[38;5;241;43m1.0\u001B[39;49m\u001B[43m,\u001B[49m\u001B[43m \u001B[49m\u001B[43mdevice\u001B[49m\u001B[38;5;241;43m=\u001B[39;49m\u001B[38;5;124;43m'\u001B[39;49m\u001B[38;5;124;43mcuda\u001B[39;49m\u001B[38;5;124;43m'\u001B[39;49m\u001B[43m)\u001B[49m\u001B[43m)\u001B[49m)\u001B[38;5;241m.\u001B[39mexpand(\u001B[38;5;28mself\u001B[39m\u001B[38;5;241m.\u001B[39mout_dim)  \u001B[38;5;66;03m# Infer the response noise\u001B[39;00m\n\u001B[0;32m     17\u001B[0m \u001B[38;5;66;03m# Sampling model\u001B[39;00m\n\u001B[0;32m     18\u001B[0m \u001B[38;5;28;01mwith\u001B[39;00m pyro\u001B[38;5;241m.\u001B[39mplate(\u001B[38;5;124m\"\u001B[39m\u001B[38;5;124mdata\u001B[39m\u001B[38;5;124m\"\u001B[39m, x\u001B[38;5;241m.\u001B[39mshape[\u001B[38;5;241m0\u001B[39m]): \u001B[38;5;66;03m# x.shape[0]=10000\u001B[39;00m\n\u001B[0;32m     19\u001B[0m     \u001B[38;5;66;03m# obs = xxx(\"obs\", mu, obs=y)\u001B[39;00m\n",
      "File \u001B[1;32m~\\OneDrive\\Desktopold\\SB\\research\\DGPII\\program\\DGP-RFF-main\\venv\\Lib\\site-packages\\pyro\\distributions\\distribution.py:26\u001B[0m, in \u001B[0;36mDistributionMeta.__call__\u001B[1;34m(cls, *args, **kwargs)\u001B[0m\n\u001B[0;32m     24\u001B[0m     \u001B[38;5;28;01mif\u001B[39;00m result \u001B[38;5;129;01mis\u001B[39;00m \u001B[38;5;129;01mnot\u001B[39;00m \u001B[38;5;28;01mNone\u001B[39;00m:\n\u001B[0;32m     25\u001B[0m         \u001B[38;5;28;01mreturn\u001B[39;00m result\n\u001B[1;32m---> 26\u001B[0m \u001B[38;5;28;01mreturn\u001B[39;00m \u001B[38;5;28;43msuper\u001B[39;49m\u001B[43m(\u001B[49m\u001B[43m)\u001B[49m\u001B[38;5;241;43m.\u001B[39;49m\u001B[38;5;21;43m__call__\u001B[39;49m\u001B[43m(\u001B[49m\u001B[38;5;241;43m*\u001B[39;49m\u001B[43margs\u001B[49m\u001B[43m,\u001B[49m\u001B[43m \u001B[49m\u001B[38;5;241;43m*\u001B[39;49m\u001B[38;5;241;43m*\u001B[39;49m\u001B[43mkwargs\u001B[49m\u001B[43m)\u001B[49m\n",
      "File \u001B[1;32m~\\OneDrive\\Desktopold\\SB\\research\\DGPII\\program\\DGP-RFF-main\\venv\\Lib\\site-packages\\torch\\distributions\\gamma.py:58\u001B[0m, in \u001B[0;36mGamma.__init__\u001B[1;34m(self, concentration, rate, validate_args)\u001B[0m\n\u001B[0;32m     56\u001B[0m \u001B[38;5;28;01melse\u001B[39;00m:\n\u001B[0;32m     57\u001B[0m     batch_shape \u001B[38;5;241m=\u001B[39m \u001B[38;5;28mself\u001B[39m\u001B[38;5;241m.\u001B[39mconcentration\u001B[38;5;241m.\u001B[39msize()\n\u001B[1;32m---> 58\u001B[0m \u001B[38;5;28;43msuper\u001B[39;49m\u001B[43m(\u001B[49m\u001B[43m)\u001B[49m\u001B[38;5;241;43m.\u001B[39;49m\u001B[38;5;21;43m__init__\u001B[39;49m\u001B[43m(\u001B[49m\u001B[43mbatch_shape\u001B[49m\u001B[43m,\u001B[49m\u001B[43m \u001B[49m\u001B[43mvalidate_args\u001B[49m\u001B[38;5;241;43m=\u001B[39;49m\u001B[43mvalidate_args\u001B[49m\u001B[43m)\u001B[49m\n",
      "File \u001B[1;32m~\\OneDrive\\Desktopold\\SB\\research\\DGPII\\program\\DGP-RFF-main\\venv\\Lib\\site-packages\\torch\\distributions\\distribution.py:67\u001B[0m, in \u001B[0;36mDistribution.__init__\u001B[1;34m(self, batch_shape, event_shape, validate_args)\u001B[0m\n\u001B[0;32m     65\u001B[0m         value \u001B[38;5;241m=\u001B[39m \u001B[38;5;28mgetattr\u001B[39m(\u001B[38;5;28mself\u001B[39m, param)\n\u001B[0;32m     66\u001B[0m         valid \u001B[38;5;241m=\u001B[39m constraint\u001B[38;5;241m.\u001B[39mcheck(value)\n\u001B[1;32m---> 67\u001B[0m         \u001B[38;5;28;01mif\u001B[39;00m \u001B[38;5;129;01mnot\u001B[39;00m valid\u001B[38;5;241m.\u001B[39mall():\n\u001B[0;32m     68\u001B[0m             \u001B[38;5;28;01mraise\u001B[39;00m \u001B[38;5;167;01mValueError\u001B[39;00m(\n\u001B[0;32m     69\u001B[0m                 \u001B[38;5;124mf\u001B[39m\u001B[38;5;124m\"\u001B[39m\u001B[38;5;124mExpected parameter \u001B[39m\u001B[38;5;132;01m{\u001B[39;00mparam\u001B[38;5;132;01m}\u001B[39;00m\u001B[38;5;124m \u001B[39m\u001B[38;5;124m\"\u001B[39m\n\u001B[0;32m     70\u001B[0m                 \u001B[38;5;124mf\u001B[39m\u001B[38;5;124m\"\u001B[39m\u001B[38;5;124m(\u001B[39m\u001B[38;5;132;01m{\u001B[39;00m\u001B[38;5;28mtype\u001B[39m(value)\u001B[38;5;241m.\u001B[39m\u001B[38;5;18m__name__\u001B[39m\u001B[38;5;132;01m}\u001B[39;00m\u001B[38;5;124m of shape \u001B[39m\u001B[38;5;132;01m{\u001B[39;00m\u001B[38;5;28mtuple\u001B[39m(value\u001B[38;5;241m.\u001B[39mshape)\u001B[38;5;132;01m}\u001B[39;00m\u001B[38;5;124m) \u001B[39m\u001B[38;5;124m\"\u001B[39m\n\u001B[1;32m   (...)\u001B[0m\n\u001B[0;32m     73\u001B[0m                 \u001B[38;5;124mf\u001B[39m\u001B[38;5;124m\"\u001B[39m\u001B[38;5;124mbut found invalid values:\u001B[39m\u001B[38;5;130;01m\\n\u001B[39;00m\u001B[38;5;132;01m{\u001B[39;00mvalue\u001B[38;5;132;01m}\u001B[39;00m\u001B[38;5;124m\"\u001B[39m\n\u001B[0;32m     74\u001B[0m             )\n\u001B[0;32m     75\u001B[0m \u001B[38;5;28msuper\u001B[39m()\u001B[38;5;241m.\u001B[39m\u001B[38;5;21m__init__\u001B[39m()\n",
      "File \u001B[1;32m~\\OneDrive\\Desktopold\\SB\\research\\DGPII\\program\\DGP-RFF-main\\venv\\Lib\\site-packages\\torch\\utils\\_device.py:78\u001B[0m, in \u001B[0;36mDeviceContext.__torch_function__\u001B[1;34m(self, func, types, args, kwargs)\u001B[0m\n\u001B[0;32m     76\u001B[0m \u001B[38;5;28;01mif\u001B[39;00m func \u001B[38;5;129;01min\u001B[39;00m _device_constructors() \u001B[38;5;129;01mand\u001B[39;00m kwargs\u001B[38;5;241m.\u001B[39mget(\u001B[38;5;124m'\u001B[39m\u001B[38;5;124mdevice\u001B[39m\u001B[38;5;124m'\u001B[39m) \u001B[38;5;129;01mis\u001B[39;00m \u001B[38;5;28;01mNone\u001B[39;00m:\n\u001B[0;32m     77\u001B[0m     kwargs[\u001B[38;5;124m'\u001B[39m\u001B[38;5;124mdevice\u001B[39m\u001B[38;5;124m'\u001B[39m] \u001B[38;5;241m=\u001B[39m \u001B[38;5;28mself\u001B[39m\u001B[38;5;241m.\u001B[39mdevice\n\u001B[1;32m---> 78\u001B[0m \u001B[38;5;28;01mreturn\u001B[39;00m \u001B[43mfunc\u001B[49m\u001B[43m(\u001B[49m\u001B[38;5;241;43m*\u001B[39;49m\u001B[43margs\u001B[49m\u001B[43m,\u001B[49m\u001B[43m \u001B[49m\u001B[38;5;241;43m*\u001B[39;49m\u001B[38;5;241;43m*\u001B[39;49m\u001B[43mkwargs\u001B[49m\u001B[43m)\u001B[49m\n",
      "\u001B[1;31mKeyboardInterrupt\u001B[0m: "
     ]
    }
   ],
   "execution_count": 15
  },
  {
   "metadata": {},
   "cell_type": "code",
   "source": "model.parameters()",
   "id": "b162f80e752f771f",
   "outputs": [],
   "execution_count": null
  },
  {
   "cell_type": "code",
   "id": "b8f9a0fc-eaba-49d6-b2b7-25d2900d464f",
   "metadata": {
    "tags": []
   },
   "source": [
    "predictive = Predictive(model, guide=mean_field_guide, num_samples=500)\n",
    "preds = predictive(x_test)"
   ],
   "outputs": [],
   "execution_count": null
  },
  {
   "cell_type": "code",
   "id": "3f9017b0-0419-4084-8a67-9e0a8d05a425",
   "metadata": {
    "tags": []
   },
   "source": "y_pred = preds['obs'].cpu().detach().numpy().mean(axis=0)",
   "outputs": [],
   "execution_count": null
  },
  {
   "cell_type": "code",
   "id": "74966241-fe23-4a9e-b720-3a2530374deb",
   "metadata": {
    "collapsed": true,
    "jupyter": {
     "outputs_hidden": true
    },
    "tags": []
   },
   "source": [
    "for d in range(6):\n",
    "    plt.plot(x_obs, y_obs[:,d], label=\"Observation\")\n",
    "    plt.plot(x_test.cpu(), y_pred[:,d], label=\"Prediction\")\n",
    "    plt.legend()\n",
    "    plt.show()"
   ],
   "outputs": [],
   "execution_count": null
  },
  {
   "cell_type": "code",
   "id": "8588c70c-5a0c-4b44-b33c-f57244422bda",
   "metadata": {
    "tags": []
   },
   "source": [
    "# sampled Omega: model.model.layers[0].layer.weight"
   ],
   "outputs": [],
   "execution_count": null
  },
  {
   "cell_type": "code",
   "id": "82c6784c-e27f-4fbf-9b48-a2cfd21dbd1d",
   "metadata": {},
   "source": [
    "# preds['model.layers.0.layer.weight'].squeeze().mean(axis=0): Omega estimator"
   ],
   "outputs": [],
   "execution_count": null
  },
  {
   "cell_type": "code",
   "id": "3f7383f0-d018-4491-a554-6bdee8840104",
   "metadata": {
    "tags": []
   },
   "source": [
    "for name, value in pyro.get_param_store().items():\n",
    "    print(name, pyro.param(name).shape)"
   ],
   "outputs": [],
   "execution_count": null
  },
  {
   "metadata": {},
   "cell_type": "markdown",
   "source": "1 -> 50; 100 -> 6",
   "id": "ecb6e41e0a42d1"
  },
  {
   "metadata": {},
   "cell_type": "markdown",
   "source": [
    "Omega 1*50  1*50\n",
    "W     6*100 6*100\n",
    "bias  6     6\n",
    "sigma 1     1"
   ],
   "id": "2309648bcec46c90"
  },
  {
   "cell_type": "code",
   "id": "dc579bc1-39d1-4a15-b6b0-e6e86050b340",
   "metadata": {},
   "source": [
    "# def model(data):\n",
    "#   alpha = torch.tensor(6.0)\n",
    "#   beta = torch.tensor(10.0)\n",
    "#   pay_probs = pyro.sample('pay_probs', dist.Beta(alpha, beta).expand(3).independent(1))\n",
    "#   normalized_pay_probs = pay_probs / torch.sum(pay_probs)\n",
    "\n",
    "#   with pyro.iarange('data_loop', len(data)):\n",
    "#     pyro.sample('obs', dist.Categorical(probs=normalized_pay_probs), obs=data)"
   ],
   "outputs": [],
   "execution_count": null
  },
  {
   "cell_type": "code",
   "id": "ca173da6-0f92-41fc-9b1b-5f15dbaa44d0",
   "metadata": {},
   "source": [
    "# def guide(data):\n",
    "#   alphas = pyro.param('alphas', torch.tensor(6.).expand(3), constraint=constraints.positive)\n",
    "#   betas = pyro.param('betas', torch.tensor(10.).expand(3), constraint=constraints.positive) \n",
    "\n",
    "#   pyro.sample('pay_probs', dist.Beta(alphas, betas).independent(1))"
   ],
   "outputs": [],
   "execution_count": null
  }
 ],
 "metadata": {
  "kernelspec": {
   "display_name": "Python 3 (ipykernel)",
   "language": "python",
   "name": "python3"
  },
  "language_info": {
   "codemirror_mode": {
    "name": "ipython",
    "version": 3
   },
   "file_extension": ".py",
   "mimetype": "text/x-python",
   "name": "python",
   "nbconvert_exporter": "python",
   "pygments_lexer": "ipython3",
   "version": "3.11.4"
  }
 },
 "nbformat": 4,
 "nbformat_minor": 5
}
